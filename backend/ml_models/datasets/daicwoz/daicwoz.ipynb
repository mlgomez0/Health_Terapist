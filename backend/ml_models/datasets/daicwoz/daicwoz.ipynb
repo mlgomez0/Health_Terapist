{
  "cells": [
    {
      "cell_type": "code",
      "execution_count": 1,
      "metadata": {},
      "outputs": [],
      "source": [
        "import pandas as pd"
      ]
    },
    {
      "cell_type": "code",
      "execution_count": 2,
      "metadata": {
        "notebookRunGroups": {
          "groupValue": "1"
        }
      },
      "outputs": [],
      "source": [
        "# Read files\n",
        "df_101 = pd.read_csv('300_TRANSCRIPT.csv', sep='\\t')\n",
        "df_301 = pd.read_csv('301_TRANSCRIPT.csv', sep='\\t')\n",
        "df_302 = pd.read_csv('302_TRANSCRIPT.csv', sep='\\t')"
      ]
    },
    {
      "cell_type": "code",
      "execution_count": 3,
      "metadata": {},
      "outputs": [],
      "source": [
        "# Concatenate\n",
        "df = pd.concat([df_101, df_301, df_302])"
      ]
    },
    {
      "cell_type": "code",
      "execution_count": 6,
      "metadata": {},
      "outputs": [
        {
          "data": {
            "text/html": [
              "<div>\n",
              "<style scoped>\n",
              "    .dataframe tbody tr th:only-of-type {\n",
              "        vertical-align: middle;\n",
              "    }\n",
              "\n",
              "    .dataframe tbody tr th {\n",
              "        vertical-align: top;\n",
              "    }\n",
              "\n",
              "    .dataframe thead th {\n",
              "        text-align: right;\n",
              "    }\n",
              "</style>\n",
              "<table border=\"1\" class=\"dataframe\">\n",
              "  <thead>\n",
              "    <tr style=\"text-align: right;\">\n",
              "      <th></th>\n",
              "      <th>start_time</th>\n",
              "      <th>stop_time</th>\n",
              "      <th>speaker</th>\n",
              "      <th>value</th>\n",
              "    </tr>\n",
              "  </thead>\n",
              "  <tbody>\n",
              "    <tr>\n",
              "      <th>0</th>\n",
              "      <td>36.588</td>\n",
              "      <td>39.668</td>\n",
              "      <td>Ellie</td>\n",
              "      <td>hi i'm ellie thanks for coming in today</td>\n",
              "    </tr>\n",
              "    <tr>\n",
              "      <th>1</th>\n",
              "      <td>39.888</td>\n",
              "      <td>43.378</td>\n",
              "      <td>Ellie</td>\n",
              "      <td>i was created to talk to people in a safe and ...</td>\n",
              "    </tr>\n",
              "    <tr>\n",
              "      <th>2</th>\n",
              "      <td>43.728</td>\n",
              "      <td>48.498</td>\n",
              "      <td>Ellie</td>\n",
              "      <td>think of me as a friend i don't judge i can't ...</td>\n",
              "    </tr>\n",
              "    <tr>\n",
              "      <th>3</th>\n",
              "      <td>49.188</td>\n",
              "      <td>52.388</td>\n",
              "      <td>Ellie</td>\n",
              "      <td>i'm here to learn about people and would love ...</td>\n",
              "    </tr>\n",
              "    <tr>\n",
              "      <th>4</th>\n",
              "      <td>52.658</td>\n",
              "      <td>58.958</td>\n",
              "      <td>Ellie</td>\n",
              "      <td>i'll ask a few questions to get us started and...</td>\n",
              "    </tr>\n",
              "  </tbody>\n",
              "</table>\n",
              "</div>"
            ],
            "text/plain": [
              "   start_time  stop_time speaker  \\\n",
              "0      36.588     39.668   Ellie   \n",
              "1      39.888     43.378   Ellie   \n",
              "2      43.728     48.498   Ellie   \n",
              "3      49.188     52.388   Ellie   \n",
              "4      52.658     58.958   Ellie   \n",
              "\n",
              "                                               value  \n",
              "0            hi i'm ellie thanks for coming in today  \n",
              "1  i was created to talk to people in a safe and ...  \n",
              "2  think of me as a friend i don't judge i can't ...  \n",
              "3  i'm here to learn about people and would love ...  \n",
              "4  i'll ask a few questions to get us started and...  "
            ]
          },
          "execution_count": 6,
          "metadata": {},
          "output_type": "execute_result"
        }
      ],
      "source": [
        "df.head(5)"
      ]
    },
    {
      "cell_type": "code",
      "execution_count": 8,
      "metadata": {},
      "outputs": [],
      "source": [
        "# Combine consecutive rows with the same speaker\n",
        "df_combined = df.groupby((df['speaker'] != df['speaker'].shift()).cumsum()).agg({\n",
        "    'start_time': 'first',\n",
        "    'stop_time': 'last',\n",
        "    'speaker': 'first',\n",
        "    'value': ' '.join\n",
        "}).reset_index(drop=True)"
      ]
    },
    {
      "cell_type": "code",
      "execution_count": 12,
      "metadata": {},
      "outputs": [
        {
          "data": {
            "text/html": [
              "<div>\n",
              "<style scoped>\n",
              "    .dataframe tbody tr th:only-of-type {\n",
              "        vertical-align: middle;\n",
              "    }\n",
              "\n",
              "    .dataframe tbody tr th {\n",
              "        vertical-align: top;\n",
              "    }\n",
              "\n",
              "    .dataframe thead th {\n",
              "        text-align: right;\n",
              "    }\n",
              "</style>\n",
              "<table border=\"1\" class=\"dataframe\">\n",
              "  <thead>\n",
              "    <tr style=\"text-align: right;\">\n",
              "      <th></th>\n",
              "      <th>start_time</th>\n",
              "      <th>stop_time</th>\n",
              "      <th>speaker</th>\n",
              "      <th>value</th>\n",
              "    </tr>\n",
              "  </thead>\n",
              "  <tbody>\n",
              "    <tr>\n",
              "      <th>0</th>\n",
              "      <td>36.588</td>\n",
              "      <td>61.378</td>\n",
              "      <td>Ellie</td>\n",
              "      <td>hi i'm ellie thanks for coming in today i was ...</td>\n",
              "    </tr>\n",
              "    <tr>\n",
              "      <th>1</th>\n",
              "      <td>62.328</td>\n",
              "      <td>63.178</td>\n",
              "      <td>Participant</td>\n",
              "      <td>good</td>\n",
              "    </tr>\n",
              "    <tr>\n",
              "      <th>2</th>\n",
              "      <td>63.798</td>\n",
              "      <td>67.528</td>\n",
              "      <td>Ellie</td>\n",
              "      <td>that's good where are you from originally</td>\n",
              "    </tr>\n",
              "    <tr>\n",
              "      <th>3</th>\n",
              "      <td>68.978</td>\n",
              "      <td>70.288</td>\n",
              "      <td>Participant</td>\n",
              "      <td>atlanta georgia</td>\n",
              "    </tr>\n",
              "    <tr>\n",
              "      <th>4</th>\n",
              "      <td>70.978</td>\n",
              "      <td>74.198</td>\n",
              "      <td>Ellie</td>\n",
              "      <td>really why'd you move to l_a</td>\n",
              "    </tr>\n",
              "  </tbody>\n",
              "</table>\n",
              "</div>"
            ],
            "text/plain": [
              "   start_time  stop_time      speaker  \\\n",
              "0      36.588     61.378        Ellie   \n",
              "1      62.328     63.178  Participant   \n",
              "2      63.798     67.528        Ellie   \n",
              "3      68.978     70.288  Participant   \n",
              "4      70.978     74.198        Ellie   \n",
              "\n",
              "                                               value  \n",
              "0  hi i'm ellie thanks for coming in today i was ...  \n",
              "1                                               good  \n",
              "2          that's good where are you from originally  \n",
              "3                                    atlanta georgia  \n",
              "4                       really why'd you move to l_a  "
            ]
          },
          "execution_count": 12,
          "metadata": {},
          "output_type": "execute_result"
        }
      ],
      "source": [
        "df_combined.head(5)"
      ]
    },
    {
      "cell_type": "code",
      "execution_count": 15,
      "metadata": {},
      "outputs": [],
      "source": [
        "# Combine consecutive rows with the same speaker\n",
        "df_combined = df.groupby((df['speaker'] != df['speaker'].shift()).cumsum()).agg({\n",
        "    'speaker': 'first',\n",
        "    'value': ' '.join\n",
        "}).reset_index(drop=True)\n",
        "\n",
        "# Initialize lists for questions and answers\n",
        "questions = []\n",
        "answers = []\n",
        "\n",
        "# Separate into question and answer\n",
        "for i in range(len(df_combined)):\n",
        "    if df_combined.loc[i, 'speaker'] == 'Ellie':\n",
        "        questions.append(df_combined.loc[i, 'value'])\n",
        "        if i + 1 < len(df_combined) and df_combined.loc[i + 1, 'speaker'] == 'Participant':\n",
        "            answers.append(df_combined.loc[i + 1, 'value'])\n",
        "        else:\n",
        "            answers.append('')\n",
        "    elif df_combined.loc[i, 'speaker'] == 'Participant' and (i == 0 or df_combined.loc[i - 1, 'speaker'] != 'Ellie'):\n",
        "        questions.append('')\n",
        "        answers.append(df_combined.loc[i, 'value'])\n",
        "\n",
        "# Create a new DataFrame\n",
        "qa_df = pd.DataFrame({\n",
        "    'question': questions,\n",
        "    'answer': answers\n",
        "})"
      ]
    },
    {
      "cell_type": "code",
      "execution_count": 21,
      "metadata": {},
      "outputs": [
        {
          "data": {
            "text/html": [
              "<div>\n",
              "<style scoped>\n",
              "    .dataframe tbody tr th:only-of-type {\n",
              "        vertical-align: middle;\n",
              "    }\n",
              "\n",
              "    .dataframe tbody tr th {\n",
              "        vertical-align: top;\n",
              "    }\n",
              "\n",
              "    .dataframe thead th {\n",
              "        text-align: right;\n",
              "    }\n",
              "</style>\n",
              "<table border=\"1\" class=\"dataframe\">\n",
              "  <thead>\n",
              "    <tr style=\"text-align: right;\">\n",
              "      <th></th>\n",
              "      <th>question</th>\n",
              "      <th>answer</th>\n",
              "    </tr>\n",
              "  </thead>\n",
              "  <tbody>\n",
              "    <tr>\n",
              "      <th>0</th>\n",
              "      <td>hi i'm ellie thanks for coming in today i was ...</td>\n",
              "      <td>good</td>\n",
              "    </tr>\n",
              "    <tr>\n",
              "      <th>1</th>\n",
              "      <td>that's good where are you from originally</td>\n",
              "      <td>atlanta georgia</td>\n",
              "    </tr>\n",
              "    <tr>\n",
              "      <th>2</th>\n",
              "      <td>really why'd you move to l_a</td>\n",
              "      <td>um my parents are from here um</td>\n",
              "    </tr>\n",
              "    <tr>\n",
              "      <th>3</th>\n",
              "      <td>how do you like l_a</td>\n",
              "      <td>i love it</td>\n",
              "    </tr>\n",
              "    <tr>\n",
              "      <th>4</th>\n",
              "      <td>what are some things you really like about l_a</td>\n",
              "      <td>i like the weather i like the opportunities um...</td>\n",
              "    </tr>\n",
              "  </tbody>\n",
              "</table>\n",
              "</div>"
            ],
            "text/plain": [
              "                                            question  \\\n",
              "0  hi i'm ellie thanks for coming in today i was ...   \n",
              "1          that's good where are you from originally   \n",
              "2                       really why'd you move to l_a   \n",
              "3                                how do you like l_a   \n",
              "4     what are some things you really like about l_a   \n",
              "\n",
              "                                              answer  \n",
              "0                                               good  \n",
              "1                                    atlanta georgia  \n",
              "2                     um my parents are from here um  \n",
              "3                                          i love it  \n",
              "4  i like the weather i like the opportunities um...  "
            ]
          },
          "execution_count": 21,
          "metadata": {},
          "output_type": "execute_result"
        }
      ],
      "source": [
        "qa_df.head(5)"
      ]
    }
  ],
  "metadata": {
    "colab": {
      "collapsed_sections": [
        "S_KqZPcLWhLp",
        "ip2rBADgcTol",
        "xMYE0VyYy5fF",
        "NMKTNWT2mlGL",
        "UnI_Kj1y-YQj"
      ],
      "provenance": []
    },
    "kernelspec": {
      "display_name": "Python 3",
      "name": "python3"
    },
    "language_info": {
      "codemirror_mode": {
        "name": "ipython",
        "version": 3
      },
      "file_extension": ".py",
      "mimetype": "text/x-python",
      "name": "python",
      "nbconvert_exporter": "python",
      "pygments_lexer": "ipython3",
      "version": "3.9.6"
    }
  },
  "nbformat": 4,
  "nbformat_minor": 0
}
