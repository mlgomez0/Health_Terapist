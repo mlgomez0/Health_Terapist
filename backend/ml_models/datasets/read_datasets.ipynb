{
  "cells": [
    {
      "cell_type": "markdown",
      "source": [
        "# Read an Join Datasets\n",
        "\n",
        "This notebook containes all the operations done to read and clean datasets:\n",
        "\n"
      ],
      "metadata": {
        "id": "LoYomkXX31mL"
      },
      "id": "LoYomkXX31mL"
    },
    {
      "cell_type": "code",
      "execution_count": null,
      "id": "f363e945",
      "metadata": {
        "id": "f363e945"
      },
      "outputs": [],
      "source": [
        "import pandas as pd\n",
        "import json"
      ]
    },
    {
      "cell_type": "markdown",
      "source": [
        "## Hugging Face Dataset\n",
        "\n",
        "*   https://huggingface.co/datasets/Amod/mental_health_counseling_conversations"
      ],
      "metadata": {
        "id": "VaituKW-A4iv"
      },
      "id": "VaituKW-A4iv"
    },
    {
      "cell_type": "code",
      "execution_count": null,
      "id": "750442d0",
      "metadata": {
        "id": "750442d0"
      },
      "outputs": [],
      "source": [
        "# Read the file line by line\n",
        "file = open( \"combined_dataset.json\" , \"r\" )"
      ]
    },
    {
      "cell_type": "code",
      "execution_count": null,
      "id": "4699966e",
      "metadata": {
        "id": "4699966e"
      },
      "outputs": [],
      "source": [
        "# Load JSON data\n",
        "with open('combined_dataset.json') as file:\n",
        "    data = [line for line in file]"
      ]
    },
    {
      "cell_type": "code",
      "source": [
        "# Initialize lists to hold contexts and responses\n",
        "contexts = []\n",
        "responses = []\n",
        "\n",
        "# Parse each JSON string and extract the relevant data\n",
        "for json_str in data:\n",
        "    data_row = json.loads(json_str)\n",
        "    contexts.append(data_row['Context'])\n",
        "    responses.append(data_row['Response'])\n",
        "\n",
        "# Create the DataFrame\n",
        "df1 = pd.DataFrame({\n",
        "    'Context': contexts,\n",
        "    'Response': responses\n",
        "})\n"
      ],
      "metadata": {
        "id": "EpZ8Z7NN_5gy"
      },
      "id": "EpZ8Z7NN_5gy",
      "execution_count": null,
      "outputs": []
    },
    {
      "cell_type": "code",
      "source": [
        "df1.head() # first rows"
      ],
      "metadata": {
        "colab": {
          "base_uri": "https://localhost:8080/",
          "height": 206
        },
        "id": "rf8j_iG6AcM1",
        "outputId": "cd0c273d-0432-4e0e-91e3-5e4fcb7a91dc"
      },
      "id": "rf8j_iG6AcM1",
      "execution_count": null,
      "outputs": [
        {
          "output_type": "execute_result",
          "data": {
            "text/plain": [
              "                                             Context  \\\n",
              "0  I'm going through some things with my feelings...   \n",
              "1  I'm going through some things with my feelings...   \n",
              "2  I'm going through some things with my feelings...   \n",
              "3  I'm going through some things with my feelings...   \n",
              "4  I'm going through some things with my feelings...   \n",
              "\n",
              "                                            Response  \n",
              "0  If everyone thinks you're worthless, then mayb...  \n",
              "1  Hello, and thank you for your question and see...  \n",
              "2  First thing I'd suggest is getting the sleep y...  \n",
              "3  Therapy is essential for those that are feelin...  \n",
              "4  I first want to let you know that you are not ...  "
            ],
            "text/html": [
              "\n",
              "  <div id=\"df-3a80e0ef-4c54-4b0a-9fcc-3672059dd281\" class=\"colab-df-container\">\n",
              "    <div>\n",
              "<style scoped>\n",
              "    .dataframe tbody tr th:only-of-type {\n",
              "        vertical-align: middle;\n",
              "    }\n",
              "\n",
              "    .dataframe tbody tr th {\n",
              "        vertical-align: top;\n",
              "    }\n",
              "\n",
              "    .dataframe thead th {\n",
              "        text-align: right;\n",
              "    }\n",
              "</style>\n",
              "<table border=\"1\" class=\"dataframe\">\n",
              "  <thead>\n",
              "    <tr style=\"text-align: right;\">\n",
              "      <th></th>\n",
              "      <th>Context</th>\n",
              "      <th>Response</th>\n",
              "    </tr>\n",
              "  </thead>\n",
              "  <tbody>\n",
              "    <tr>\n",
              "      <th>0</th>\n",
              "      <td>I'm going through some things with my feelings...</td>\n",
              "      <td>If everyone thinks you're worthless, then mayb...</td>\n",
              "    </tr>\n",
              "    <tr>\n",
              "      <th>1</th>\n",
              "      <td>I'm going through some things with my feelings...</td>\n",
              "      <td>Hello, and thank you for your question and see...</td>\n",
              "    </tr>\n",
              "    <tr>\n",
              "      <th>2</th>\n",
              "      <td>I'm going through some things with my feelings...</td>\n",
              "      <td>First thing I'd suggest is getting the sleep y...</td>\n",
              "    </tr>\n",
              "    <tr>\n",
              "      <th>3</th>\n",
              "      <td>I'm going through some things with my feelings...</td>\n",
              "      <td>Therapy is essential for those that are feelin...</td>\n",
              "    </tr>\n",
              "    <tr>\n",
              "      <th>4</th>\n",
              "      <td>I'm going through some things with my feelings...</td>\n",
              "      <td>I first want to let you know that you are not ...</td>\n",
              "    </tr>\n",
              "  </tbody>\n",
              "</table>\n",
              "</div>\n",
              "    <div class=\"colab-df-buttons\">\n",
              "\n",
              "  <div class=\"colab-df-container\">\n",
              "    <button class=\"colab-df-convert\" onclick=\"convertToInteractive('df-3a80e0ef-4c54-4b0a-9fcc-3672059dd281')\"\n",
              "            title=\"Convert this dataframe to an interactive table.\"\n",
              "            style=\"display:none;\">\n",
              "\n",
              "  <svg xmlns=\"http://www.w3.org/2000/svg\" height=\"24px\" viewBox=\"0 -960 960 960\">\n",
              "    <path d=\"M120-120v-720h720v720H120Zm60-500h600v-160H180v160Zm220 220h160v-160H400v160Zm0 220h160v-160H400v160ZM180-400h160v-160H180v160Zm440 0h160v-160H620v160ZM180-180h160v-160H180v160Zm440 0h160v-160H620v160Z\"/>\n",
              "  </svg>\n",
              "    </button>\n",
              "\n",
              "  <style>\n",
              "    .colab-df-container {\n",
              "      display:flex;\n",
              "      gap: 12px;\n",
              "    }\n",
              "\n",
              "    .colab-df-convert {\n",
              "      background-color: #E8F0FE;\n",
              "      border: none;\n",
              "      border-radius: 50%;\n",
              "      cursor: pointer;\n",
              "      display: none;\n",
              "      fill: #1967D2;\n",
              "      height: 32px;\n",
              "      padding: 0 0 0 0;\n",
              "      width: 32px;\n",
              "    }\n",
              "\n",
              "    .colab-df-convert:hover {\n",
              "      background-color: #E2EBFA;\n",
              "      box-shadow: 0px 1px 2px rgba(60, 64, 67, 0.3), 0px 1px 3px 1px rgba(60, 64, 67, 0.15);\n",
              "      fill: #174EA6;\n",
              "    }\n",
              "\n",
              "    .colab-df-buttons div {\n",
              "      margin-bottom: 4px;\n",
              "    }\n",
              "\n",
              "    [theme=dark] .colab-df-convert {\n",
              "      background-color: #3B4455;\n",
              "      fill: #D2E3FC;\n",
              "    }\n",
              "\n",
              "    [theme=dark] .colab-df-convert:hover {\n",
              "      background-color: #434B5C;\n",
              "      box-shadow: 0px 1px 3px 1px rgba(0, 0, 0, 0.15);\n",
              "      filter: drop-shadow(0px 1px 2px rgba(0, 0, 0, 0.3));\n",
              "      fill: #FFFFFF;\n",
              "    }\n",
              "  </style>\n",
              "\n",
              "    <script>\n",
              "      const buttonEl =\n",
              "        document.querySelector('#df-3a80e0ef-4c54-4b0a-9fcc-3672059dd281 button.colab-df-convert');\n",
              "      buttonEl.style.display =\n",
              "        google.colab.kernel.accessAllowed ? 'block' : 'none';\n",
              "\n",
              "      async function convertToInteractive(key) {\n",
              "        const element = document.querySelector('#df-3a80e0ef-4c54-4b0a-9fcc-3672059dd281');\n",
              "        const dataTable =\n",
              "          await google.colab.kernel.invokeFunction('convertToInteractive',\n",
              "                                                    [key], {});\n",
              "        if (!dataTable) return;\n",
              "\n",
              "        const docLinkHtml = 'Like what you see? Visit the ' +\n",
              "          '<a target=\"_blank\" href=https://colab.research.google.com/notebooks/data_table.ipynb>data table notebook</a>'\n",
              "          + ' to learn more about interactive tables.';\n",
              "        element.innerHTML = '';\n",
              "        dataTable['output_type'] = 'display_data';\n",
              "        await google.colab.output.renderOutput(dataTable, element);\n",
              "        const docLink = document.createElement('div');\n",
              "        docLink.innerHTML = docLinkHtml;\n",
              "        element.appendChild(docLink);\n",
              "      }\n",
              "    </script>\n",
              "  </div>\n",
              "\n",
              "\n",
              "<div id=\"df-febe7409-950a-44ec-a5cd-3d7da76e4b6d\">\n",
              "  <button class=\"colab-df-quickchart\" onclick=\"quickchart('df-febe7409-950a-44ec-a5cd-3d7da76e4b6d')\"\n",
              "            title=\"Suggest charts\"\n",
              "            style=\"display:none;\">\n",
              "\n",
              "<svg xmlns=\"http://www.w3.org/2000/svg\" height=\"24px\"viewBox=\"0 0 24 24\"\n",
              "     width=\"24px\">\n",
              "    <g>\n",
              "        <path d=\"M19 3H5c-1.1 0-2 .9-2 2v14c0 1.1.9 2 2 2h14c1.1 0 2-.9 2-2V5c0-1.1-.9-2-2-2zM9 17H7v-7h2v7zm4 0h-2V7h2v10zm4 0h-2v-4h2v4z\"/>\n",
              "    </g>\n",
              "</svg>\n",
              "  </button>\n",
              "\n",
              "<style>\n",
              "  .colab-df-quickchart {\n",
              "      --bg-color: #E8F0FE;\n",
              "      --fill-color: #1967D2;\n",
              "      --hover-bg-color: #E2EBFA;\n",
              "      --hover-fill-color: #174EA6;\n",
              "      --disabled-fill-color: #AAA;\n",
              "      --disabled-bg-color: #DDD;\n",
              "  }\n",
              "\n",
              "  [theme=dark] .colab-df-quickchart {\n",
              "      --bg-color: #3B4455;\n",
              "      --fill-color: #D2E3FC;\n",
              "      --hover-bg-color: #434B5C;\n",
              "      --hover-fill-color: #FFFFFF;\n",
              "      --disabled-bg-color: #3B4455;\n",
              "      --disabled-fill-color: #666;\n",
              "  }\n",
              "\n",
              "  .colab-df-quickchart {\n",
              "    background-color: var(--bg-color);\n",
              "    border: none;\n",
              "    border-radius: 50%;\n",
              "    cursor: pointer;\n",
              "    display: none;\n",
              "    fill: var(--fill-color);\n",
              "    height: 32px;\n",
              "    padding: 0;\n",
              "    width: 32px;\n",
              "  }\n",
              "\n",
              "  .colab-df-quickchart:hover {\n",
              "    background-color: var(--hover-bg-color);\n",
              "    box-shadow: 0 1px 2px rgba(60, 64, 67, 0.3), 0 1px 3px 1px rgba(60, 64, 67, 0.15);\n",
              "    fill: var(--button-hover-fill-color);\n",
              "  }\n",
              "\n",
              "  .colab-df-quickchart-complete:disabled,\n",
              "  .colab-df-quickchart-complete:disabled:hover {\n",
              "    background-color: var(--disabled-bg-color);\n",
              "    fill: var(--disabled-fill-color);\n",
              "    box-shadow: none;\n",
              "  }\n",
              "\n",
              "  .colab-df-spinner {\n",
              "    border: 2px solid var(--fill-color);\n",
              "    border-color: transparent;\n",
              "    border-bottom-color: var(--fill-color);\n",
              "    animation:\n",
              "      spin 1s steps(1) infinite;\n",
              "  }\n",
              "\n",
              "  @keyframes spin {\n",
              "    0% {\n",
              "      border-color: transparent;\n",
              "      border-bottom-color: var(--fill-color);\n",
              "      border-left-color: var(--fill-color);\n",
              "    }\n",
              "    20% {\n",
              "      border-color: transparent;\n",
              "      border-left-color: var(--fill-color);\n",
              "      border-top-color: var(--fill-color);\n",
              "    }\n",
              "    30% {\n",
              "      border-color: transparent;\n",
              "      border-left-color: var(--fill-color);\n",
              "      border-top-color: var(--fill-color);\n",
              "      border-right-color: var(--fill-color);\n",
              "    }\n",
              "    40% {\n",
              "      border-color: transparent;\n",
              "      border-right-color: var(--fill-color);\n",
              "      border-top-color: var(--fill-color);\n",
              "    }\n",
              "    60% {\n",
              "      border-color: transparent;\n",
              "      border-right-color: var(--fill-color);\n",
              "    }\n",
              "    80% {\n",
              "      border-color: transparent;\n",
              "      border-right-color: var(--fill-color);\n",
              "      border-bottom-color: var(--fill-color);\n",
              "    }\n",
              "    90% {\n",
              "      border-color: transparent;\n",
              "      border-bottom-color: var(--fill-color);\n",
              "    }\n",
              "  }\n",
              "</style>\n",
              "\n",
              "  <script>\n",
              "    async function quickchart(key) {\n",
              "      const quickchartButtonEl =\n",
              "        document.querySelector('#' + key + ' button');\n",
              "      quickchartButtonEl.disabled = true;  // To prevent multiple clicks.\n",
              "      quickchartButtonEl.classList.add('colab-df-spinner');\n",
              "      try {\n",
              "        const charts = await google.colab.kernel.invokeFunction(\n",
              "            'suggestCharts', [key], {});\n",
              "      } catch (error) {\n",
              "        console.error('Error during call to suggestCharts:', error);\n",
              "      }\n",
              "      quickchartButtonEl.classList.remove('colab-df-spinner');\n",
              "      quickchartButtonEl.classList.add('colab-df-quickchart-complete');\n",
              "    }\n",
              "    (() => {\n",
              "      let quickchartButtonEl =\n",
              "        document.querySelector('#df-febe7409-950a-44ec-a5cd-3d7da76e4b6d button');\n",
              "      quickchartButtonEl.style.display =\n",
              "        google.colab.kernel.accessAllowed ? 'block' : 'none';\n",
              "    })();\n",
              "  </script>\n",
              "</div>\n",
              "\n",
              "    </div>\n",
              "  </div>\n"
            ],
            "application/vnd.google.colaboratory.intrinsic+json": {
              "type": "dataframe",
              "variable_name": "df1",
              "summary": "{\n  \"name\": \"df1\",\n  \"rows\": 3512,\n  \"fields\": [\n    {\n      \"column\": \"Context\",\n      \"properties\": {\n        \"dtype\": \"category\",\n        \"num_unique_values\": 995,\n        \"samples\": [\n          \"My mother has Alzheimer's and she has become so nasty and mean to everyone and she always asks for unrealistic, silly or meaningless items.  I get so frustrated and angry, but then I feel guilty because I know it probably isn\\u2019t her fault.  How can I cope with feeling like this?\",\n          \"How do I stop those thoughts?\",\n          \"For the past week or so me and my boyfriend have been fighting. He has been making a lot of bad choices and he is currently hospitalized. I'm barely eating or sleeping because I'm constantly worried about him. Everyone else in my life says that I should just forget about him and walk away. What should I do?\"\n        ],\n        \"semantic_type\": \"\",\n        \"description\": \"\"\n      }\n    },\n    {\n      \"column\": \"Response\",\n      \"properties\": {\n        \"dtype\": \"string\",\n        \"num_unique_values\": 2480,\n        \"samples\": [\n          \"Check out my blog post on: \\u00a0Four-ways-add-self-esteem-friends-list/I hope this offers you some nuggets of helpfulness!\",\n          \"It is possible that you have depression, but you could also be experiencing some other changes that mean that you have feelings of being sad without actually being depressed. Your statement makes it sound like you've stopped caring about your work, but you're still going to work and doing your work. It almost sounds like you are dissatisfied with your work. Do you like what you do?\\u00a0When you said that life is pointless, what makes it that way? What is keeping you going? Is there something you can do each day that you can find meaning in?You mentioned that you are not sure if you need help or are just tired. It sounds like you could certainly benefit from talking with someone about more specifics.I'm curious about how long you have felt this way and if you are aware of anything that is contributing to it.\",\n          \"There's a narrative approach that we call nightmare \\\"rescripting\\\" that may be helpful.Since we can't really control the nature of our dreams while they're happening, we try to alter them while we are in a waking state.\\u00a0\\u00a0In a nutshell, this refers to first writing out in detail the events of a recurring nightmare you have. Typically, there is an element of fear, danger or helplessness.Second, we rescript the nightmare by changing what happens in the dream in a way that engenders feelings of empowerment, control, competence, and/or safety. In other words, if the nightmare involved being pursued or assaulted, we might change the events of the story so that you call the police, get to a place of safety, or even fight back and protect yourself.Third, you can reread this new version of the dream over and over again, so that it becomes a well rehearsed story. The effect of this can make it so that the next time your mind goes towards the nightmare while sleeping, this new, more hopeful and empowering story competes with the old one and reduces the level of distress associated with the dream. Best of luck!\"\n        ],\n        \"semantic_type\": \"\",\n        \"description\": \"\"\n      }\n    }\n  ]\n}"
            }
          },
          "metadata": {},
          "execution_count": 53
        }
      ]
    },
    {
      "cell_type": "code",
      "source": [
        "df1.shape # number of rows and columns"
      ],
      "metadata": {
        "colab": {
          "base_uri": "https://localhost:8080/"
        },
        "id": "veFH1jI5Atn2",
        "outputId": "1d1a7a98-385b-42a5-8f7d-83a8cef89cb6"
      },
      "id": "veFH1jI5Atn2",
      "execution_count": null,
      "outputs": [
        {
          "output_type": "execute_result",
          "data": {
            "text/plain": [
              "(3512, 2)"
            ]
          },
          "metadata": {},
          "execution_count": 54
        }
      ]
    },
    {
      "cell_type": "code",
      "source": [
        "df1.duplicated().sum() # number of duplicated rows"
      ],
      "metadata": {
        "colab": {
          "base_uri": "https://localhost:8080/"
        },
        "id": "7yXpC5I6J5hS",
        "outputId": "e61985cf-5044-4594-f2a8-eb0dcb59b8cc"
      },
      "id": "7yXpC5I6J5hS",
      "execution_count": 83,
      "outputs": [
        {
          "output_type": "execute_result",
          "data": {
            "text/plain": [
              "760"
            ]
          },
          "metadata": {},
          "execution_count": 83
        }
      ]
    },
    {
      "cell_type": "code",
      "source": [
        "# removing duplicated rows\n",
        "\n",
        "df1 = df1.drop_duplicates()"
      ],
      "metadata": {
        "id": "NcJVuz60KCqZ"
      },
      "id": "NcJVuz60KCqZ",
      "execution_count": 84,
      "outputs": []
    },
    {
      "cell_type": "code",
      "source": [
        "df1.shape # number of rows and columns"
      ],
      "metadata": {
        "colab": {
          "base_uri": "https://localhost:8080/"
        },
        "id": "5XKdr28CL1Je",
        "outputId": "2cbccc16-63d5-4d21-b306-30541f28a3c7"
      },
      "id": "5XKdr28CL1Je",
      "execution_count": 104,
      "outputs": [
        {
          "output_type": "execute_result",
          "data": {
            "text/plain": [
              "(2752, 2)"
            ]
          },
          "metadata": {},
          "execution_count": 104
        }
      ]
    },
    {
      "cell_type": "markdown",
      "source": [
        "## Second Dataset\n",
        "\n",
        "-\n",
        "CounselChat: Mental health answers from counselors\n",
        "CounselChat\n",
        "https://counselchat.com"
      ],
      "metadata": {
        "id": "Bj2sTGZABsoH"
      },
      "id": "Bj2sTGZABsoH"
    },
    {
      "cell_type": "code",
      "execution_count": 87,
      "id": "40366679",
      "metadata": {
        "id": "40366679"
      },
      "outputs": [],
      "source": [
        "df2 = pd.read_csv(\"20200325_counsel_chat.csv\")"
      ]
    },
    {
      "cell_type": "code",
      "execution_count": 88,
      "id": "76f279f5",
      "metadata": {
        "colab": {
          "base_uri": "https://localhost:8080/",
          "height": 504
        },
        "id": "76f279f5",
        "outputId": "65f54715-5cf2-4cd1-906b-cef35f967ac6"
      },
      "outputs": [
        {
          "output_type": "execute_result",
          "data": {
            "text/plain": [
              "   Unnamed: 0  questionID                                      questionTitle  \\\n",
              "0           0           0  Can I change my feeling of being worthless to ...   \n",
              "1           1           0  Can I change my feeling of being worthless to ...   \n",
              "2           2           0  Can I change my feeling of being worthless to ...   \n",
              "3           3           0  Can I change my feeling of being worthless to ...   \n",
              "4           4           0  Can I change my feeling of being worthless to ...   \n",
              "\n",
              "                                        questionText  \\\n",
              "0  I'm going through some things with my feelings...   \n",
              "1  I'm going through some things with my feelings...   \n",
              "2  I'm going through some things with my feelings...   \n",
              "3  I'm going through some things with my feelings...   \n",
              "4  I'm going through some things with my feelings...   \n",
              "\n",
              "                                        questionLink       topic  \\\n",
              "0  https://counselchat.com/questions/can-i-change...  depression   \n",
              "1  https://counselchat.com/questions/can-i-change...  depression   \n",
              "2  https://counselchat.com/questions/can-i-change...  depression   \n",
              "3  https://counselchat.com/questions/can-i-change...  depression   \n",
              "4  https://counselchat.com/questions/can-i-change...  depression   \n",
              "\n",
              "                                       therapistInfo  \\\n",
              "0  Sherry Katz, LCSWCouples and Family Therapist,...   \n",
              "1  Robin Landwehr, DBH, LPCC, NCCMental Health in...   \n",
              "2  Lee KingI use an integrative approach to treat...   \n",
              "3  Shauntai Davis-YearginPersonalized, private on...   \n",
              "4  Jordan WhiteLicensed Social Worker at Oak Root...   \n",
              "\n",
              "                                        therapistURL  \\\n",
              "0  https://counselchat.com/therapists/sherry-katz...   \n",
              "1  https://counselchat.com/therapists/robin-landw...   \n",
              "2        https://counselchat.com/therapists/lee-king   \n",
              "3  https://counselchat.com/therapists/shauntai-da...   \n",
              "4    https://counselchat.com/therapists/jordan-white   \n",
              "\n",
              "                                          answerText  upvotes  views  split  \n",
              "0  If everyone thinks you're worthless, then mayb...        1   2899  train  \n",
              "1  Hello, and thank you for your question and see...        1   3514  train  \n",
              "2  First thing I'd suggest is getting the sleep y...        0      5  train  \n",
              "3  Therapy is essential for those that are feelin...        0     31  train  \n",
              "4  I first want to let you know that you are not ...        0    620  train  "
            ],
            "text/html": [
              "\n",
              "  <div id=\"df-be0512eb-1938-427c-a8bf-6ec94eaa1f7c\" class=\"colab-df-container\">\n",
              "    <div>\n",
              "<style scoped>\n",
              "    .dataframe tbody tr th:only-of-type {\n",
              "        vertical-align: middle;\n",
              "    }\n",
              "\n",
              "    .dataframe tbody tr th {\n",
              "        vertical-align: top;\n",
              "    }\n",
              "\n",
              "    .dataframe thead th {\n",
              "        text-align: right;\n",
              "    }\n",
              "</style>\n",
              "<table border=\"1\" class=\"dataframe\">\n",
              "  <thead>\n",
              "    <tr style=\"text-align: right;\">\n",
              "      <th></th>\n",
              "      <th>Unnamed: 0</th>\n",
              "      <th>questionID</th>\n",
              "      <th>questionTitle</th>\n",
              "      <th>questionText</th>\n",
              "      <th>questionLink</th>\n",
              "      <th>topic</th>\n",
              "      <th>therapistInfo</th>\n",
              "      <th>therapistURL</th>\n",
              "      <th>answerText</th>\n",
              "      <th>upvotes</th>\n",
              "      <th>views</th>\n",
              "      <th>split</th>\n",
              "    </tr>\n",
              "  </thead>\n",
              "  <tbody>\n",
              "    <tr>\n",
              "      <th>0</th>\n",
              "      <td>0</td>\n",
              "      <td>0</td>\n",
              "      <td>Can I change my feeling of being worthless to ...</td>\n",
              "      <td>I'm going through some things with my feelings...</td>\n",
              "      <td>https://counselchat.com/questions/can-i-change...</td>\n",
              "      <td>depression</td>\n",
              "      <td>Sherry Katz, LCSWCouples and Family Therapist,...</td>\n",
              "      <td>https://counselchat.com/therapists/sherry-katz...</td>\n",
              "      <td>If everyone thinks you're worthless, then mayb...</td>\n",
              "      <td>1</td>\n",
              "      <td>2899</td>\n",
              "      <td>train</td>\n",
              "    </tr>\n",
              "    <tr>\n",
              "      <th>1</th>\n",
              "      <td>1</td>\n",
              "      <td>0</td>\n",
              "      <td>Can I change my feeling of being worthless to ...</td>\n",
              "      <td>I'm going through some things with my feelings...</td>\n",
              "      <td>https://counselchat.com/questions/can-i-change...</td>\n",
              "      <td>depression</td>\n",
              "      <td>Robin Landwehr, DBH, LPCC, NCCMental Health in...</td>\n",
              "      <td>https://counselchat.com/therapists/robin-landw...</td>\n",
              "      <td>Hello, and thank you for your question and see...</td>\n",
              "      <td>1</td>\n",
              "      <td>3514</td>\n",
              "      <td>train</td>\n",
              "    </tr>\n",
              "    <tr>\n",
              "      <th>2</th>\n",
              "      <td>2</td>\n",
              "      <td>0</td>\n",
              "      <td>Can I change my feeling of being worthless to ...</td>\n",
              "      <td>I'm going through some things with my feelings...</td>\n",
              "      <td>https://counselchat.com/questions/can-i-change...</td>\n",
              "      <td>depression</td>\n",
              "      <td>Lee KingI use an integrative approach to treat...</td>\n",
              "      <td>https://counselchat.com/therapists/lee-king</td>\n",
              "      <td>First thing I'd suggest is getting the sleep y...</td>\n",
              "      <td>0</td>\n",
              "      <td>5</td>\n",
              "      <td>train</td>\n",
              "    </tr>\n",
              "    <tr>\n",
              "      <th>3</th>\n",
              "      <td>3</td>\n",
              "      <td>0</td>\n",
              "      <td>Can I change my feeling of being worthless to ...</td>\n",
              "      <td>I'm going through some things with my feelings...</td>\n",
              "      <td>https://counselchat.com/questions/can-i-change...</td>\n",
              "      <td>depression</td>\n",
              "      <td>Shauntai Davis-YearginPersonalized, private on...</td>\n",
              "      <td>https://counselchat.com/therapists/shauntai-da...</td>\n",
              "      <td>Therapy is essential for those that are feelin...</td>\n",
              "      <td>0</td>\n",
              "      <td>31</td>\n",
              "      <td>train</td>\n",
              "    </tr>\n",
              "    <tr>\n",
              "      <th>4</th>\n",
              "      <td>4</td>\n",
              "      <td>0</td>\n",
              "      <td>Can I change my feeling of being worthless to ...</td>\n",
              "      <td>I'm going through some things with my feelings...</td>\n",
              "      <td>https://counselchat.com/questions/can-i-change...</td>\n",
              "      <td>depression</td>\n",
              "      <td>Jordan WhiteLicensed Social Worker at Oak Root...</td>\n",
              "      <td>https://counselchat.com/therapists/jordan-white</td>\n",
              "      <td>I first want to let you know that you are not ...</td>\n",
              "      <td>0</td>\n",
              "      <td>620</td>\n",
              "      <td>train</td>\n",
              "    </tr>\n",
              "  </tbody>\n",
              "</table>\n",
              "</div>\n",
              "    <div class=\"colab-df-buttons\">\n",
              "\n",
              "  <div class=\"colab-df-container\">\n",
              "    <button class=\"colab-df-convert\" onclick=\"convertToInteractive('df-be0512eb-1938-427c-a8bf-6ec94eaa1f7c')\"\n",
              "            title=\"Convert this dataframe to an interactive table.\"\n",
              "            style=\"display:none;\">\n",
              "\n",
              "  <svg xmlns=\"http://www.w3.org/2000/svg\" height=\"24px\" viewBox=\"0 -960 960 960\">\n",
              "    <path d=\"M120-120v-720h720v720H120Zm60-500h600v-160H180v160Zm220 220h160v-160H400v160Zm0 220h160v-160H400v160ZM180-400h160v-160H180v160Zm440 0h160v-160H620v160ZM180-180h160v-160H180v160Zm440 0h160v-160H620v160Z\"/>\n",
              "  </svg>\n",
              "    </button>\n",
              "\n",
              "  <style>\n",
              "    .colab-df-container {\n",
              "      display:flex;\n",
              "      gap: 12px;\n",
              "    }\n",
              "\n",
              "    .colab-df-convert {\n",
              "      background-color: #E8F0FE;\n",
              "      border: none;\n",
              "      border-radius: 50%;\n",
              "      cursor: pointer;\n",
              "      display: none;\n",
              "      fill: #1967D2;\n",
              "      height: 32px;\n",
              "      padding: 0 0 0 0;\n",
              "      width: 32px;\n",
              "    }\n",
              "\n",
              "    .colab-df-convert:hover {\n",
              "      background-color: #E2EBFA;\n",
              "      box-shadow: 0px 1px 2px rgba(60, 64, 67, 0.3), 0px 1px 3px 1px rgba(60, 64, 67, 0.15);\n",
              "      fill: #174EA6;\n",
              "    }\n",
              "\n",
              "    .colab-df-buttons div {\n",
              "      margin-bottom: 4px;\n",
              "    }\n",
              "\n",
              "    [theme=dark] .colab-df-convert {\n",
              "      background-color: #3B4455;\n",
              "      fill: #D2E3FC;\n",
              "    }\n",
              "\n",
              "    [theme=dark] .colab-df-convert:hover {\n",
              "      background-color: #434B5C;\n",
              "      box-shadow: 0px 1px 3px 1px rgba(0, 0, 0, 0.15);\n",
              "      filter: drop-shadow(0px 1px 2px rgba(0, 0, 0, 0.3));\n",
              "      fill: #FFFFFF;\n",
              "    }\n",
              "  </style>\n",
              "\n",
              "    <script>\n",
              "      const buttonEl =\n",
              "        document.querySelector('#df-be0512eb-1938-427c-a8bf-6ec94eaa1f7c button.colab-df-convert');\n",
              "      buttonEl.style.display =\n",
              "        google.colab.kernel.accessAllowed ? 'block' : 'none';\n",
              "\n",
              "      async function convertToInteractive(key) {\n",
              "        const element = document.querySelector('#df-be0512eb-1938-427c-a8bf-6ec94eaa1f7c');\n",
              "        const dataTable =\n",
              "          await google.colab.kernel.invokeFunction('convertToInteractive',\n",
              "                                                    [key], {});\n",
              "        if (!dataTable) return;\n",
              "\n",
              "        const docLinkHtml = 'Like what you see? Visit the ' +\n",
              "          '<a target=\"_blank\" href=https://colab.research.google.com/notebooks/data_table.ipynb>data table notebook</a>'\n",
              "          + ' to learn more about interactive tables.';\n",
              "        element.innerHTML = '';\n",
              "        dataTable['output_type'] = 'display_data';\n",
              "        await google.colab.output.renderOutput(dataTable, element);\n",
              "        const docLink = document.createElement('div');\n",
              "        docLink.innerHTML = docLinkHtml;\n",
              "        element.appendChild(docLink);\n",
              "      }\n",
              "    </script>\n",
              "  </div>\n",
              "\n",
              "\n",
              "<div id=\"df-f24b340b-3376-4d10-8a68-bda753373139\">\n",
              "  <button class=\"colab-df-quickchart\" onclick=\"quickchart('df-f24b340b-3376-4d10-8a68-bda753373139')\"\n",
              "            title=\"Suggest charts\"\n",
              "            style=\"display:none;\">\n",
              "\n",
              "<svg xmlns=\"http://www.w3.org/2000/svg\" height=\"24px\"viewBox=\"0 0 24 24\"\n",
              "     width=\"24px\">\n",
              "    <g>\n",
              "        <path d=\"M19 3H5c-1.1 0-2 .9-2 2v14c0 1.1.9 2 2 2h14c1.1 0 2-.9 2-2V5c0-1.1-.9-2-2-2zM9 17H7v-7h2v7zm4 0h-2V7h2v10zm4 0h-2v-4h2v4z\"/>\n",
              "    </g>\n",
              "</svg>\n",
              "  </button>\n",
              "\n",
              "<style>\n",
              "  .colab-df-quickchart {\n",
              "      --bg-color: #E8F0FE;\n",
              "      --fill-color: #1967D2;\n",
              "      --hover-bg-color: #E2EBFA;\n",
              "      --hover-fill-color: #174EA6;\n",
              "      --disabled-fill-color: #AAA;\n",
              "      --disabled-bg-color: #DDD;\n",
              "  }\n",
              "\n",
              "  [theme=dark] .colab-df-quickchart {\n",
              "      --bg-color: #3B4455;\n",
              "      --fill-color: #D2E3FC;\n",
              "      --hover-bg-color: #434B5C;\n",
              "      --hover-fill-color: #FFFFFF;\n",
              "      --disabled-bg-color: #3B4455;\n",
              "      --disabled-fill-color: #666;\n",
              "  }\n",
              "\n",
              "  .colab-df-quickchart {\n",
              "    background-color: var(--bg-color);\n",
              "    border: none;\n",
              "    border-radius: 50%;\n",
              "    cursor: pointer;\n",
              "    display: none;\n",
              "    fill: var(--fill-color);\n",
              "    height: 32px;\n",
              "    padding: 0;\n",
              "    width: 32px;\n",
              "  }\n",
              "\n",
              "  .colab-df-quickchart:hover {\n",
              "    background-color: var(--hover-bg-color);\n",
              "    box-shadow: 0 1px 2px rgba(60, 64, 67, 0.3), 0 1px 3px 1px rgba(60, 64, 67, 0.15);\n",
              "    fill: var(--button-hover-fill-color);\n",
              "  }\n",
              "\n",
              "  .colab-df-quickchart-complete:disabled,\n",
              "  .colab-df-quickchart-complete:disabled:hover {\n",
              "    background-color: var(--disabled-bg-color);\n",
              "    fill: var(--disabled-fill-color);\n",
              "    box-shadow: none;\n",
              "  }\n",
              "\n",
              "  .colab-df-spinner {\n",
              "    border: 2px solid var(--fill-color);\n",
              "    border-color: transparent;\n",
              "    border-bottom-color: var(--fill-color);\n",
              "    animation:\n",
              "      spin 1s steps(1) infinite;\n",
              "  }\n",
              "\n",
              "  @keyframes spin {\n",
              "    0% {\n",
              "      border-color: transparent;\n",
              "      border-bottom-color: var(--fill-color);\n",
              "      border-left-color: var(--fill-color);\n",
              "    }\n",
              "    20% {\n",
              "      border-color: transparent;\n",
              "      border-left-color: var(--fill-color);\n",
              "      border-top-color: var(--fill-color);\n",
              "    }\n",
              "    30% {\n",
              "      border-color: transparent;\n",
              "      border-left-color: var(--fill-color);\n",
              "      border-top-color: var(--fill-color);\n",
              "      border-right-color: var(--fill-color);\n",
              "    }\n",
              "    40% {\n",
              "      border-color: transparent;\n",
              "      border-right-color: var(--fill-color);\n",
              "      border-top-color: var(--fill-color);\n",
              "    }\n",
              "    60% {\n",
              "      border-color: transparent;\n",
              "      border-right-color: var(--fill-color);\n",
              "    }\n",
              "    80% {\n",
              "      border-color: transparent;\n",
              "      border-right-color: var(--fill-color);\n",
              "      border-bottom-color: var(--fill-color);\n",
              "    }\n",
              "    90% {\n",
              "      border-color: transparent;\n",
              "      border-bottom-color: var(--fill-color);\n",
              "    }\n",
              "  }\n",
              "</style>\n",
              "\n",
              "  <script>\n",
              "    async function quickchart(key) {\n",
              "      const quickchartButtonEl =\n",
              "        document.querySelector('#' + key + ' button');\n",
              "      quickchartButtonEl.disabled = true;  // To prevent multiple clicks.\n",
              "      quickchartButtonEl.classList.add('colab-df-spinner');\n",
              "      try {\n",
              "        const charts = await google.colab.kernel.invokeFunction(\n",
              "            'suggestCharts', [key], {});\n",
              "      } catch (error) {\n",
              "        console.error('Error during call to suggestCharts:', error);\n",
              "      }\n",
              "      quickchartButtonEl.classList.remove('colab-df-spinner');\n",
              "      quickchartButtonEl.classList.add('colab-df-quickchart-complete');\n",
              "    }\n",
              "    (() => {\n",
              "      let quickchartButtonEl =\n",
              "        document.querySelector('#df-f24b340b-3376-4d10-8a68-bda753373139 button');\n",
              "      quickchartButtonEl.style.display =\n",
              "        google.colab.kernel.accessAllowed ? 'block' : 'none';\n",
              "    })();\n",
              "  </script>\n",
              "</div>\n",
              "\n",
              "    </div>\n",
              "  </div>\n"
            ],
            "application/vnd.google.colaboratory.intrinsic+json": {
              "type": "dataframe",
              "variable_name": "df2",
              "summary": "{\n  \"name\": \"df2\",\n  \"rows\": 2129,\n  \"fields\": [\n    {\n      \"column\": \"Unnamed: 0\",\n      \"properties\": {\n        \"dtype\": \"number\",\n        \"std\": 614,\n        \"min\": 0,\n        \"max\": 2128,\n        \"num_unique_values\": 2129,\n        \"samples\": [\n          282,\n          2004,\n          1710\n        ],\n        \"semantic_type\": \"\",\n        \"description\": \"\"\n      }\n    },\n    {\n      \"column\": \"questionID\",\n      \"properties\": {\n        \"dtype\": \"number\",\n        \"std\": 273,\n        \"min\": 0,\n        \"max\": 884,\n        \"num_unique_values\": 815,\n        \"samples\": [\n          206,\n          317,\n          413\n        ],\n        \"semantic_type\": \"\",\n        \"description\": \"\"\n      }\n    },\n    {\n      \"column\": \"questionTitle\",\n      \"properties\": {\n        \"dtype\": \"category\",\n        \"num_unique_values\": 818,\n        \"samples\": [\n          \"How can I control my anxiety?\",\n          \"I feel completely alone in my marriage\",\n          \"How do I stop a bully who adults wouldn't recognize as bullying without speaking to the bully?\"\n        ],\n        \"semantic_type\": \"\",\n        \"description\": \"\"\n      }\n    },\n    {\n      \"column\": \"questionText\",\n      \"properties\": {\n        \"dtype\": \"category\",\n        \"num_unique_values\": 824,\n        \"samples\": [\n          \"What makes a healthy marriage last?\",\n          \"I have attention-deficit/hyperactivity disorder, posttraumatic stress disorder, anxiety, anger, and memory problems. I can't work. I have no income. I'm on medicine, but I feel worthless. I want to be normal.\",\n          \"Over the years, I have slowly lost everything: my jobs, my cars, my freedom, and my money. I am a stay-at-home mom who doesn't make any money, doesn't have a car, never goes out, and cleans all day long everyday.\"\n        ],\n        \"semantic_type\": \"\",\n        \"description\": \"\"\n      }\n    },\n    {\n      \"column\": \"questionLink\",\n      \"properties\": {\n        \"dtype\": \"category\",\n        \"num_unique_values\": 824,\n        \"samples\": [\n          \"https://counselchat.com/questions/what-makes-a-good-marriage\",\n          \"https://counselchat.com/questions/how-do-i-deal-with-all-of-my-disorders\",\n          \"https://counselchat.com/questions/how-can-i-be-happy-as-a-stay-at-home-mom\"\n        ],\n        \"semantic_type\": \"\",\n        \"description\": \"\"\n      }\n    },\n    {\n      \"column\": \"topic\",\n      \"properties\": {\n        \"dtype\": \"category\",\n        \"num_unique_values\": 31,\n        \"samples\": [\n          \"military-issues\",\n          \"marriage\",\n          \"stress\"\n        ],\n        \"semantic_type\": \"\",\n        \"description\": \"\"\n      }\n    },\n    {\n      \"column\": \"therapistInfo\",\n      \"properties\": {\n        \"dtype\": \"category\",\n        \"num_unique_values\": 307,\n        \"samples\": [\n          \"Marci WarrenWhole Wellness Counseling\",\n          \"Tamara PowellAnything But Ordinary!\",\n          \"Locke Curfman\"\n        ],\n        \"semantic_type\": \"\",\n        \"description\": \"\"\n      }\n    },\n    {\n      \"column\": \"therapistURL\",\n      \"properties\": {\n        \"dtype\": \"category\",\n        \"num_unique_values\": 307,\n        \"samples\": [\n          \"https://counselchat.com/therapists/marci-warren\",\n          \"https://counselchat.com/therapists/tamara-powell\",\n          \"https://counselchat.com/therapists/locke-curfman\"\n        ],\n        \"semantic_type\": \"\",\n        \"description\": \"\"\n      }\n    },\n    {\n      \"column\": \"answerText\",\n      \"properties\": {\n        \"dtype\": \"string\",\n        \"num_unique_values\": 2008,\n        \"samples\": [\n          \"We women really do tend to struggle with the comparison game. And Hollywood culture hasn't helped with romantic comedies and song lyrics telling us that when a man appears evasive, there's something to worry about.\\u00a0It's been my clinical experience though that most women value transparency and security in their relationships. So you might try sharing a little bit more about your history with this woman. For example:Where did you meet her?How long were you friends before you decided to call it quits?\\u00a0Why don't you want to be friends with her (i.e., what do you mean by \\\"kind of crazy\\\")? I promise this tends to matter to women.Were you ever intimately involved with or even attracted to her?If your girlfriend can truly see that you view her as the filet mignon to the other woman's hamburger, and that she is your favorite person on the planet and has NOTHING to worry about, she may start to come around.Now, IF she's more concerned that you might be taking this woman's calls behind your back, while I'm not typically a huge fan of sharing passwords or phone records, you might print them off and highlight this female's number and show your girlfriend that you absolutely are telling the truth.And if you really want to step it up, I would be intentional about doing all the little things that you know your girlfriend loves that helped make her fall in love with you in the first place (e.g., little love notes for her to find or sweet text messages, buy a rose or her favorite flower, have her car detailed, do the laundry...date nights...you get the idea). \\u00a0Bottom line - show your girlfriend why out of all the women on the planet that you could be with, you CHOSE HER. \\u00a0And would continue to do so all over again. \\u00a0AND why you love HER as a person. \\u00a0This will help her trust what you're saying.\\u00a0Best of luck to you! \\u00a0Tamara Powell, LMHC\",\n          \"Hello! Thank you for your question. There are few things\\nthat people find more personal than their sexual relationships. When we feel\\nconnected to our partner, sex can be best thing since sliced bread. However, if\\nwe feel disconnected in some way, sex can feel degrading and even painful. \\nI don\\u2019t know the specifics about your relationship or how\\ncomfortable you are in talking to your boyfriend, but this is one of those\\nsituations where communicating your fears is a good idea. The only exception to\\nthat would be if you believe he is actually a threat to you in some way. If you\\nbelieve that, then you should do whatever you think is safe. It sounds like\\nthere is a part of you that is already afraid of him, and if that is the case\\nthen remaining safe is your top priority. \\nAssuming you are able to share with him your feelings,\\ntelling him what you are and are not interested in sexually is very appropriate\\nand sexually healthy. Sex is something that is supposed to be enjoyable for\\nall parties. All parties should feel respected and able to say \\u201cno\\u201d to\\nabsolutely anything they are not comfortable with. \\nI call the respectful agreement between sexual partners, \\u201csex\\ntrust.\\u201d Sex Trust means your partner respects your boundaries. It means they\\nwon\\u2019t degrade you sexually with hurtful words, forced sex, or forcing or\\ncoercing sex in ways someone is not interested in having. \\u00a0Your personal safety and mental well-being is\\nwhat is most important. \\nNow, if there is a part of you that is curious about BDSM\\nand may be interested in participating in it, there are many websites that you\\ncan explore to learn information. I will warn you, some websites and articles\\nare better or worse than others, but you may at least feel more informed. \\nMany people engage in BDSM and have happy relationships, but\\nagain, it completely depends on what each person in the relationship wants. It is\\nalso important to know that BDSM is not\\u00a0just one thing and people practice it\\ndifferently based on comfort. If it is something you are uncomfortable with,\\nthen you shouldn\\u2019t feel obligated to do it.\\n\\u00a0\\nI hope this was helpful. Be well.\\n\\u00a0\\nRobin J. Landwehr, DBH, LPC, NCC\",\n          \"It is totally normal - you have a lot riding on this and you're invested! Think about why you feel so shaky - is it something about the therapist or their style? If so, it would be a good idea to talk with them about it so you feel more at ease. In any case bringing up your feelings about therapy in\\u00a0therapy is totally appropriate and even necessary. Good luck!\"\n        ],\n        \"semantic_type\": \"\",\n        \"description\": \"\"\n      }\n    },\n    {\n      \"column\": \"upvotes\",\n      \"properties\": {\n        \"dtype\": \"number\",\n        \"std\": 0,\n        \"min\": 0,\n        \"max\": 9,\n        \"num_unique_values\": 9,\n        \"samples\": [\n          6,\n          0,\n          9\n        ],\n        \"semantic_type\": \"\",\n        \"description\": \"\"\n      }\n    },\n    {\n      \"column\": \"views\",\n      \"properties\": {\n        \"dtype\": \"number\",\n        \"std\": 300,\n        \"min\": 2,\n        \"max\": 3514,\n        \"num_unique_values\": 531,\n        \"samples\": [\n          2755,\n          32,\n          397\n        ],\n        \"semantic_type\": \"\",\n        \"description\": \"\"\n      }\n    },\n    {\n      \"column\": \"split\",\n      \"properties\": {\n        \"dtype\": \"category\",\n        \"num_unique_values\": 3,\n        \"samples\": [\n          \"train\",\n          \"val\",\n          \"test\"\n        ],\n        \"semantic_type\": \"\",\n        \"description\": \"\"\n      }\n    }\n  ]\n}"
            }
          },
          "metadata": {},
          "execution_count": 88
        }
      ],
      "source": [
        "df2.head() # first rows"
      ]
    },
    {
      "cell_type": "code",
      "source": [
        "df2.shape # number of rows and columns"
      ],
      "metadata": {
        "colab": {
          "base_uri": "https://localhost:8080/"
        },
        "id": "KmNo3rIHDNG_",
        "outputId": "17472154-373c-4a31-a840-6a7bb6b10895"
      },
      "id": "KmNo3rIHDNG_",
      "execution_count": 89,
      "outputs": [
        {
          "output_type": "execute_result",
          "data": {
            "text/plain": [
              "(2129, 12)"
            ]
          },
          "metadata": {},
          "execution_count": 89
        }
      ]
    },
    {
      "cell_type": "code",
      "source": [
        "print(f\"The dataset has: {len(df2['topic'].unique())} different topics\")"
      ],
      "metadata": {
        "colab": {
          "base_uri": "https://localhost:8080/"
        },
        "id": "TkvYsh5ZDWYW",
        "outputId": "4d28a166-be15-489c-d9fe-137442173a9e"
      },
      "id": "TkvYsh5ZDWYW",
      "execution_count": 90,
      "outputs": [
        {
          "output_type": "stream",
          "name": "stdout",
          "text": [
            "The dataset has: 31 different topics\n"
          ]
        }
      ]
    },
    {
      "cell_type": "code",
      "source": [
        "# Number of rows per topic\n",
        "df2[\"topic\"].value_counts() # The topic with more rows is \"depression\". However, the numbers of rows would be low to use just this topic for model fine-tuning"
      ],
      "metadata": {
        "colab": {
          "base_uri": "https://localhost:8080/"
        },
        "id": "BY3abVARDWU2",
        "outputId": "2c960f46-7bd0-4ebe-c2ae-f92113316a79"
      },
      "id": "BY3abVARDWU2",
      "execution_count": 91,
      "outputs": [
        {
          "output_type": "execute_result",
          "data": {
            "text/plain": [
              "topic\n",
              "depression                  330\n",
              "anxiety                     249\n",
              "counseling-fundamentals     240\n",
              "intimacy                    205\n",
              "relationships               174\n",
              "parenting                   145\n",
              "family-conflict             116\n",
              "self-esteem                  83\n",
              "relationship-dissolution     76\n",
              "trauma                       66\n",
              "behavioral-change            51\n",
              "marriage                     46\n",
              "lgbtq                        38\n",
              "anger-management             38\n",
              "substance-abuse              35\n",
              "spirituality                 34\n",
              "professional-ethics          32\n",
              "workplace-relationships      26\n",
              "diagnosis                    22\n",
              "domestic-violence            21\n",
              "social-relationships         20\n",
              "grief-and-loss               18\n",
              "self-harm                    11\n",
              "sleep-improvement            10\n",
              "eating-disorders             10\n",
              "legal-regulatory              8\n",
              "stress                        7\n",
              "children-adolescents          6\n",
              "addiction                     5\n",
              "human-sexuality               4\n",
              "military-issues               3\n",
              "Name: count, dtype: int64"
            ]
          },
          "metadata": {},
          "execution_count": 91
        }
      ]
    },
    {
      "cell_type": "markdown",
      "source": [
        "## Merge Datasets"
      ],
      "metadata": {
        "id": "m54yjhsUEvFz"
      },
      "id": "m54yjhsUEvFz"
    },
    {
      "cell_type": "code",
      "execution_count": 92,
      "id": "ffba07bf",
      "metadata": {
        "id": "ffba07bf"
      },
      "outputs": [],
      "source": [
        "# Create an empty DataFrame df2\n",
        "df2_reduced = pd.DataFrame()"
      ]
    },
    {
      "cell_type": "code",
      "execution_count": 93,
      "id": "2ebe58e1",
      "metadata": {
        "id": "2ebe58e1"
      },
      "outputs": [],
      "source": [
        "df2_reduced[\"Context\"] = df2[\"questionText\"]"
      ]
    },
    {
      "cell_type": "code",
      "execution_count": 94,
      "id": "34e3c023",
      "metadata": {
        "id": "34e3c023"
      },
      "outputs": [],
      "source": [
        "df2_reduced[\"Response\"] = df2[\"answerText\"]"
      ]
    },
    {
      "cell_type": "code",
      "execution_count": 95,
      "id": "8c4a70df",
      "metadata": {
        "colab": {
          "base_uri": "https://localhost:8080/",
          "height": 424
        },
        "id": "8c4a70df",
        "outputId": "155d98c3-6d31-4077-ba4b-5f4852ea026e"
      },
      "outputs": [
        {
          "output_type": "execute_result",
          "data": {
            "text/plain": [
              "                                                Context  \\\n",
              "0     I'm going through some things with my feelings...   \n",
              "1     I'm going through some things with my feelings...   \n",
              "2     I'm going through some things with my feelings...   \n",
              "3     I'm going through some things with my feelings...   \n",
              "4     I'm going through some things with my feelings...   \n",
              "...                                                 ...   \n",
              "2124  After first meeting the client, what is the pr...   \n",
              "2125  After first meeting the client, what is the pr...   \n",
              "2126  After first meeting the client, what is the pr...   \n",
              "2127  After first meeting the client, what is the pr...   \n",
              "2128  After first meeting the client, what is the pr...   \n",
              "\n",
              "                                               Response  \n",
              "0     If everyone thinks you're worthless, then mayb...  \n",
              "1     Hello, and thank you for your question and see...  \n",
              "2     First thing I'd suggest is getting the sleep y...  \n",
              "3     Therapy is essential for those that are feelin...  \n",
              "4     I first want to let you know that you are not ...  \n",
              "...                                                 ...  \n",
              "2124  There are probably no two therapists alike bec...  \n",
              "2125  Each counselor may have a different process, s...  \n",
              "2126  After meeting a client, many Counselors will a...  \n",
              "2127  A good therapist will discuss what brought you...  \n",
              "2128  Great question which I imagine many other peop...  \n",
              "\n",
              "[2129 rows x 2 columns]"
            ],
            "text/html": [
              "\n",
              "  <div id=\"df-429a5b55-4c8f-4f3e-9296-fddb43421d98\" class=\"colab-df-container\">\n",
              "    <div>\n",
              "<style scoped>\n",
              "    .dataframe tbody tr th:only-of-type {\n",
              "        vertical-align: middle;\n",
              "    }\n",
              "\n",
              "    .dataframe tbody tr th {\n",
              "        vertical-align: top;\n",
              "    }\n",
              "\n",
              "    .dataframe thead th {\n",
              "        text-align: right;\n",
              "    }\n",
              "</style>\n",
              "<table border=\"1\" class=\"dataframe\">\n",
              "  <thead>\n",
              "    <tr style=\"text-align: right;\">\n",
              "      <th></th>\n",
              "      <th>Context</th>\n",
              "      <th>Response</th>\n",
              "    </tr>\n",
              "  </thead>\n",
              "  <tbody>\n",
              "    <tr>\n",
              "      <th>0</th>\n",
              "      <td>I'm going through some things with my feelings...</td>\n",
              "      <td>If everyone thinks you're worthless, then mayb...</td>\n",
              "    </tr>\n",
              "    <tr>\n",
              "      <th>1</th>\n",
              "      <td>I'm going through some things with my feelings...</td>\n",
              "      <td>Hello, and thank you for your question and see...</td>\n",
              "    </tr>\n",
              "    <tr>\n",
              "      <th>2</th>\n",
              "      <td>I'm going through some things with my feelings...</td>\n",
              "      <td>First thing I'd suggest is getting the sleep y...</td>\n",
              "    </tr>\n",
              "    <tr>\n",
              "      <th>3</th>\n",
              "      <td>I'm going through some things with my feelings...</td>\n",
              "      <td>Therapy is essential for those that are feelin...</td>\n",
              "    </tr>\n",
              "    <tr>\n",
              "      <th>4</th>\n",
              "      <td>I'm going through some things with my feelings...</td>\n",
              "      <td>I first want to let you know that you are not ...</td>\n",
              "    </tr>\n",
              "    <tr>\n",
              "      <th>...</th>\n",
              "      <td>...</td>\n",
              "      <td>...</td>\n",
              "    </tr>\n",
              "    <tr>\n",
              "      <th>2124</th>\n",
              "      <td>After first meeting the client, what is the pr...</td>\n",
              "      <td>There are probably no two therapists alike bec...</td>\n",
              "    </tr>\n",
              "    <tr>\n",
              "      <th>2125</th>\n",
              "      <td>After first meeting the client, what is the pr...</td>\n",
              "      <td>Each counselor may have a different process, s...</td>\n",
              "    </tr>\n",
              "    <tr>\n",
              "      <th>2126</th>\n",
              "      <td>After first meeting the client, what is the pr...</td>\n",
              "      <td>After meeting a client, many Counselors will a...</td>\n",
              "    </tr>\n",
              "    <tr>\n",
              "      <th>2127</th>\n",
              "      <td>After first meeting the client, what is the pr...</td>\n",
              "      <td>A good therapist will discuss what brought you...</td>\n",
              "    </tr>\n",
              "    <tr>\n",
              "      <th>2128</th>\n",
              "      <td>After first meeting the client, what is the pr...</td>\n",
              "      <td>Great question which I imagine many other peop...</td>\n",
              "    </tr>\n",
              "  </tbody>\n",
              "</table>\n",
              "<p>2129 rows × 2 columns</p>\n",
              "</div>\n",
              "    <div class=\"colab-df-buttons\">\n",
              "\n",
              "  <div class=\"colab-df-container\">\n",
              "    <button class=\"colab-df-convert\" onclick=\"convertToInteractive('df-429a5b55-4c8f-4f3e-9296-fddb43421d98')\"\n",
              "            title=\"Convert this dataframe to an interactive table.\"\n",
              "            style=\"display:none;\">\n",
              "\n",
              "  <svg xmlns=\"http://www.w3.org/2000/svg\" height=\"24px\" viewBox=\"0 -960 960 960\">\n",
              "    <path d=\"M120-120v-720h720v720H120Zm60-500h600v-160H180v160Zm220 220h160v-160H400v160Zm0 220h160v-160H400v160ZM180-400h160v-160H180v160Zm440 0h160v-160H620v160ZM180-180h160v-160H180v160Zm440 0h160v-160H620v160Z\"/>\n",
              "  </svg>\n",
              "    </button>\n",
              "\n",
              "  <style>\n",
              "    .colab-df-container {\n",
              "      display:flex;\n",
              "      gap: 12px;\n",
              "    }\n",
              "\n",
              "    .colab-df-convert {\n",
              "      background-color: #E8F0FE;\n",
              "      border: none;\n",
              "      border-radius: 50%;\n",
              "      cursor: pointer;\n",
              "      display: none;\n",
              "      fill: #1967D2;\n",
              "      height: 32px;\n",
              "      padding: 0 0 0 0;\n",
              "      width: 32px;\n",
              "    }\n",
              "\n",
              "    .colab-df-convert:hover {\n",
              "      background-color: #E2EBFA;\n",
              "      box-shadow: 0px 1px 2px rgba(60, 64, 67, 0.3), 0px 1px 3px 1px rgba(60, 64, 67, 0.15);\n",
              "      fill: #174EA6;\n",
              "    }\n",
              "\n",
              "    .colab-df-buttons div {\n",
              "      margin-bottom: 4px;\n",
              "    }\n",
              "\n",
              "    [theme=dark] .colab-df-convert {\n",
              "      background-color: #3B4455;\n",
              "      fill: #D2E3FC;\n",
              "    }\n",
              "\n",
              "    [theme=dark] .colab-df-convert:hover {\n",
              "      background-color: #434B5C;\n",
              "      box-shadow: 0px 1px 3px 1px rgba(0, 0, 0, 0.15);\n",
              "      filter: drop-shadow(0px 1px 2px rgba(0, 0, 0, 0.3));\n",
              "      fill: #FFFFFF;\n",
              "    }\n",
              "  </style>\n",
              "\n",
              "    <script>\n",
              "      const buttonEl =\n",
              "        document.querySelector('#df-429a5b55-4c8f-4f3e-9296-fddb43421d98 button.colab-df-convert');\n",
              "      buttonEl.style.display =\n",
              "        google.colab.kernel.accessAllowed ? 'block' : 'none';\n",
              "\n",
              "      async function convertToInteractive(key) {\n",
              "        const element = document.querySelector('#df-429a5b55-4c8f-4f3e-9296-fddb43421d98');\n",
              "        const dataTable =\n",
              "          await google.colab.kernel.invokeFunction('convertToInteractive',\n",
              "                                                    [key], {});\n",
              "        if (!dataTable) return;\n",
              "\n",
              "        const docLinkHtml = 'Like what you see? Visit the ' +\n",
              "          '<a target=\"_blank\" href=https://colab.research.google.com/notebooks/data_table.ipynb>data table notebook</a>'\n",
              "          + ' to learn more about interactive tables.';\n",
              "        element.innerHTML = '';\n",
              "        dataTable['output_type'] = 'display_data';\n",
              "        await google.colab.output.renderOutput(dataTable, element);\n",
              "        const docLink = document.createElement('div');\n",
              "        docLink.innerHTML = docLinkHtml;\n",
              "        element.appendChild(docLink);\n",
              "      }\n",
              "    </script>\n",
              "  </div>\n",
              "\n",
              "\n",
              "<div id=\"df-762ae5b2-3b9b-4623-aa31-d927d00ff8c3\">\n",
              "  <button class=\"colab-df-quickchart\" onclick=\"quickchart('df-762ae5b2-3b9b-4623-aa31-d927d00ff8c3')\"\n",
              "            title=\"Suggest charts\"\n",
              "            style=\"display:none;\">\n",
              "\n",
              "<svg xmlns=\"http://www.w3.org/2000/svg\" height=\"24px\"viewBox=\"0 0 24 24\"\n",
              "     width=\"24px\">\n",
              "    <g>\n",
              "        <path d=\"M19 3H5c-1.1 0-2 .9-2 2v14c0 1.1.9 2 2 2h14c1.1 0 2-.9 2-2V5c0-1.1-.9-2-2-2zM9 17H7v-7h2v7zm4 0h-2V7h2v10zm4 0h-2v-4h2v4z\"/>\n",
              "    </g>\n",
              "</svg>\n",
              "  </button>\n",
              "\n",
              "<style>\n",
              "  .colab-df-quickchart {\n",
              "      --bg-color: #E8F0FE;\n",
              "      --fill-color: #1967D2;\n",
              "      --hover-bg-color: #E2EBFA;\n",
              "      --hover-fill-color: #174EA6;\n",
              "      --disabled-fill-color: #AAA;\n",
              "      --disabled-bg-color: #DDD;\n",
              "  }\n",
              "\n",
              "  [theme=dark] .colab-df-quickchart {\n",
              "      --bg-color: #3B4455;\n",
              "      --fill-color: #D2E3FC;\n",
              "      --hover-bg-color: #434B5C;\n",
              "      --hover-fill-color: #FFFFFF;\n",
              "      --disabled-bg-color: #3B4455;\n",
              "      --disabled-fill-color: #666;\n",
              "  }\n",
              "\n",
              "  .colab-df-quickchart {\n",
              "    background-color: var(--bg-color);\n",
              "    border: none;\n",
              "    border-radius: 50%;\n",
              "    cursor: pointer;\n",
              "    display: none;\n",
              "    fill: var(--fill-color);\n",
              "    height: 32px;\n",
              "    padding: 0;\n",
              "    width: 32px;\n",
              "  }\n",
              "\n",
              "  .colab-df-quickchart:hover {\n",
              "    background-color: var(--hover-bg-color);\n",
              "    box-shadow: 0 1px 2px rgba(60, 64, 67, 0.3), 0 1px 3px 1px rgba(60, 64, 67, 0.15);\n",
              "    fill: var(--button-hover-fill-color);\n",
              "  }\n",
              "\n",
              "  .colab-df-quickchart-complete:disabled,\n",
              "  .colab-df-quickchart-complete:disabled:hover {\n",
              "    background-color: var(--disabled-bg-color);\n",
              "    fill: var(--disabled-fill-color);\n",
              "    box-shadow: none;\n",
              "  }\n",
              "\n",
              "  .colab-df-spinner {\n",
              "    border: 2px solid var(--fill-color);\n",
              "    border-color: transparent;\n",
              "    border-bottom-color: var(--fill-color);\n",
              "    animation:\n",
              "      spin 1s steps(1) infinite;\n",
              "  }\n",
              "\n",
              "  @keyframes spin {\n",
              "    0% {\n",
              "      border-color: transparent;\n",
              "      border-bottom-color: var(--fill-color);\n",
              "      border-left-color: var(--fill-color);\n",
              "    }\n",
              "    20% {\n",
              "      border-color: transparent;\n",
              "      border-left-color: var(--fill-color);\n",
              "      border-top-color: var(--fill-color);\n",
              "    }\n",
              "    30% {\n",
              "      border-color: transparent;\n",
              "      border-left-color: var(--fill-color);\n",
              "      border-top-color: var(--fill-color);\n",
              "      border-right-color: var(--fill-color);\n",
              "    }\n",
              "    40% {\n",
              "      border-color: transparent;\n",
              "      border-right-color: var(--fill-color);\n",
              "      border-top-color: var(--fill-color);\n",
              "    }\n",
              "    60% {\n",
              "      border-color: transparent;\n",
              "      border-right-color: var(--fill-color);\n",
              "    }\n",
              "    80% {\n",
              "      border-color: transparent;\n",
              "      border-right-color: var(--fill-color);\n",
              "      border-bottom-color: var(--fill-color);\n",
              "    }\n",
              "    90% {\n",
              "      border-color: transparent;\n",
              "      border-bottom-color: var(--fill-color);\n",
              "    }\n",
              "  }\n",
              "</style>\n",
              "\n",
              "  <script>\n",
              "    async function quickchart(key) {\n",
              "      const quickchartButtonEl =\n",
              "        document.querySelector('#' + key + ' button');\n",
              "      quickchartButtonEl.disabled = true;  // To prevent multiple clicks.\n",
              "      quickchartButtonEl.classList.add('colab-df-spinner');\n",
              "      try {\n",
              "        const charts = await google.colab.kernel.invokeFunction(\n",
              "            'suggestCharts', [key], {});\n",
              "      } catch (error) {\n",
              "        console.error('Error during call to suggestCharts:', error);\n",
              "      }\n",
              "      quickchartButtonEl.classList.remove('colab-df-spinner');\n",
              "      quickchartButtonEl.classList.add('colab-df-quickchart-complete');\n",
              "    }\n",
              "    (() => {\n",
              "      let quickchartButtonEl =\n",
              "        document.querySelector('#df-762ae5b2-3b9b-4623-aa31-d927d00ff8c3 button');\n",
              "      quickchartButtonEl.style.display =\n",
              "        google.colab.kernel.accessAllowed ? 'block' : 'none';\n",
              "    })();\n",
              "  </script>\n",
              "</div>\n",
              "\n",
              "  <div id=\"id_a4ce634c-ece8-498c-8ce5-eee171fd0af5\">\n",
              "    <style>\n",
              "      .colab-df-generate {\n",
              "        background-color: #E8F0FE;\n",
              "        border: none;\n",
              "        border-radius: 50%;\n",
              "        cursor: pointer;\n",
              "        display: none;\n",
              "        fill: #1967D2;\n",
              "        height: 32px;\n",
              "        padding: 0 0 0 0;\n",
              "        width: 32px;\n",
              "      }\n",
              "\n",
              "      .colab-df-generate:hover {\n",
              "        background-color: #E2EBFA;\n",
              "        box-shadow: 0px 1px 2px rgba(60, 64, 67, 0.3), 0px 1px 3px 1px rgba(60, 64, 67, 0.15);\n",
              "        fill: #174EA6;\n",
              "      }\n",
              "\n",
              "      [theme=dark] .colab-df-generate {\n",
              "        background-color: #3B4455;\n",
              "        fill: #D2E3FC;\n",
              "      }\n",
              "\n",
              "      [theme=dark] .colab-df-generate:hover {\n",
              "        background-color: #434B5C;\n",
              "        box-shadow: 0px 1px 3px 1px rgba(0, 0, 0, 0.15);\n",
              "        filter: drop-shadow(0px 1px 2px rgba(0, 0, 0, 0.3));\n",
              "        fill: #FFFFFF;\n",
              "      }\n",
              "    </style>\n",
              "    <button class=\"colab-df-generate\" onclick=\"generateWithVariable('df2_reduced')\"\n",
              "            title=\"Generate code using this dataframe.\"\n",
              "            style=\"display:none;\">\n",
              "\n",
              "  <svg xmlns=\"http://www.w3.org/2000/svg\" height=\"24px\"viewBox=\"0 0 24 24\"\n",
              "       width=\"24px\">\n",
              "    <path d=\"M7,19H8.4L18.45,9,17,7.55,7,17.6ZM5,21V16.75L18.45,3.32a2,2,0,0,1,2.83,0l1.4,1.43a1.91,1.91,0,0,1,.58,1.4,1.91,1.91,0,0,1-.58,1.4L9.25,21ZM18.45,9,17,7.55Zm-12,3A5.31,5.31,0,0,0,4.9,8.1,5.31,5.31,0,0,0,1,6.5,5.31,5.31,0,0,0,4.9,4.9,5.31,5.31,0,0,0,6.5,1,5.31,5.31,0,0,0,8.1,4.9,5.31,5.31,0,0,0,12,6.5,5.46,5.46,0,0,0,6.5,12Z\"/>\n",
              "  </svg>\n",
              "    </button>\n",
              "    <script>\n",
              "      (() => {\n",
              "      const buttonEl =\n",
              "        document.querySelector('#id_a4ce634c-ece8-498c-8ce5-eee171fd0af5 button.colab-df-generate');\n",
              "      buttonEl.style.display =\n",
              "        google.colab.kernel.accessAllowed ? 'block' : 'none';\n",
              "\n",
              "      buttonEl.onclick = () => {\n",
              "        google.colab.notebook.generateWithVariable('df2_reduced');\n",
              "      }\n",
              "      })();\n",
              "    </script>\n",
              "  </div>\n",
              "\n",
              "    </div>\n",
              "  </div>\n"
            ],
            "application/vnd.google.colaboratory.intrinsic+json": {
              "type": "dataframe",
              "variable_name": "df2_reduced",
              "summary": "{\n  \"name\": \"df2_reduced\",\n  \"rows\": 2129,\n  \"fields\": [\n    {\n      \"column\": \"Context\",\n      \"properties\": {\n        \"dtype\": \"category\",\n        \"num_unique_values\": 824,\n        \"samples\": [\n          \"What makes a healthy marriage last?\",\n          \"I have attention-deficit/hyperactivity disorder, posttraumatic stress disorder, anxiety, anger, and memory problems. I can't work. I have no income. I'm on medicine, but I feel worthless. I want to be normal.\",\n          \"Over the years, I have slowly lost everything: my jobs, my cars, my freedom, and my money. I am a stay-at-home mom who doesn't make any money, doesn't have a car, never goes out, and cleans all day long everyday.\"\n        ],\n        \"semantic_type\": \"\",\n        \"description\": \"\"\n      }\n    },\n    {\n      \"column\": \"Response\",\n      \"properties\": {\n        \"dtype\": \"string\",\n        \"num_unique_values\": 2008,\n        \"samples\": [\n          \"We women really do tend to struggle with the comparison game. And Hollywood culture hasn't helped with romantic comedies and song lyrics telling us that when a man appears evasive, there's something to worry about.\\u00a0It's been my clinical experience though that most women value transparency and security in their relationships. So you might try sharing a little bit more about your history with this woman. For example:Where did you meet her?How long were you friends before you decided to call it quits?\\u00a0Why don't you want to be friends with her (i.e., what do you mean by \\\"kind of crazy\\\")? I promise this tends to matter to women.Were you ever intimately involved with or even attracted to her?If your girlfriend can truly see that you view her as the filet mignon to the other woman's hamburger, and that she is your favorite person on the planet and has NOTHING to worry about, she may start to come around.Now, IF she's more concerned that you might be taking this woman's calls behind your back, while I'm not typically a huge fan of sharing passwords or phone records, you might print them off and highlight this female's number and show your girlfriend that you absolutely are telling the truth.And if you really want to step it up, I would be intentional about doing all the little things that you know your girlfriend loves that helped make her fall in love with you in the first place (e.g., little love notes for her to find or sweet text messages, buy a rose or her favorite flower, have her car detailed, do the laundry...date nights...you get the idea). \\u00a0Bottom line - show your girlfriend why out of all the women on the planet that you could be with, you CHOSE HER. \\u00a0And would continue to do so all over again. \\u00a0AND why you love HER as a person. \\u00a0This will help her trust what you're saying.\\u00a0Best of luck to you! \\u00a0Tamara Powell, LMHC\",\n          \"Hello! Thank you for your question. There are few things\\nthat people find more personal than their sexual relationships. When we feel\\nconnected to our partner, sex can be best thing since sliced bread. However, if\\nwe feel disconnected in some way, sex can feel degrading and even painful. \\nI don\\u2019t know the specifics about your relationship or how\\ncomfortable you are in talking to your boyfriend, but this is one of those\\nsituations where communicating your fears is a good idea. The only exception to\\nthat would be if you believe he is actually a threat to you in some way. If you\\nbelieve that, then you should do whatever you think is safe. It sounds like\\nthere is a part of you that is already afraid of him, and if that is the case\\nthen remaining safe is your top priority. \\nAssuming you are able to share with him your feelings,\\ntelling him what you are and are not interested in sexually is very appropriate\\nand sexually healthy. Sex is something that is supposed to be enjoyable for\\nall parties. All parties should feel respected and able to say \\u201cno\\u201d to\\nabsolutely anything they are not comfortable with. \\nI call the respectful agreement between sexual partners, \\u201csex\\ntrust.\\u201d Sex Trust means your partner respects your boundaries. It means they\\nwon\\u2019t degrade you sexually with hurtful words, forced sex, or forcing or\\ncoercing sex in ways someone is not interested in having. \\u00a0Your personal safety and mental well-being is\\nwhat is most important. \\nNow, if there is a part of you that is curious about BDSM\\nand may be interested in participating in it, there are many websites that you\\ncan explore to learn information. I will warn you, some websites and articles\\nare better or worse than others, but you may at least feel more informed. \\nMany people engage in BDSM and have happy relationships, but\\nagain, it completely depends on what each person in the relationship wants. It is\\nalso important to know that BDSM is not\\u00a0just one thing and people practice it\\ndifferently based on comfort. If it is something you are uncomfortable with,\\nthen you shouldn\\u2019t feel obligated to do it.\\n\\u00a0\\nI hope this was helpful. Be well.\\n\\u00a0\\nRobin J. Landwehr, DBH, LPC, NCC\",\n          \"It is totally normal - you have a lot riding on this and you're invested! Think about why you feel so shaky - is it something about the therapist or their style? If so, it would be a good idea to talk with them about it so you feel more at ease. In any case bringing up your feelings about therapy in\\u00a0therapy is totally appropriate and even necessary. Good luck!\"\n        ],\n        \"semantic_type\": \"\",\n        \"description\": \"\"\n      }\n    }\n  ]\n}"
            }
          },
          "metadata": {},
          "execution_count": 95
        }
      ],
      "source": [
        "df2_reduced"
      ]
    },
    {
      "cell_type": "code",
      "source": [
        "df2_reduced.duplicated().sum() #checking duplicate rows"
      ],
      "metadata": {
        "colab": {
          "base_uri": "https://localhost:8080/"
        },
        "id": "HdzVeY5OJxM6",
        "outputId": "fdc74682-913d-4c09-bf57-f98219217269"
      },
      "id": "HdzVeY5OJxM6",
      "execution_count": 97,
      "outputs": [
        {
          "output_type": "execute_result",
          "data": {
            "text/plain": [
              "120"
            ]
          },
          "metadata": {},
          "execution_count": 97
        }
      ]
    },
    {
      "cell_type": "code",
      "source": [
        "# Eliminating duplicated rows\n",
        "df2_reduced = df2_reduced.drop_duplicates()"
      ],
      "metadata": {
        "id": "63W23H_hLIaM"
      },
      "id": "63W23H_hLIaM",
      "execution_count": 98,
      "outputs": []
    },
    {
      "cell_type": "code",
      "source": [
        "df2_reduced.shape # number of rows and columns"
      ],
      "metadata": {
        "colab": {
          "base_uri": "https://localhost:8080/"
        },
        "id": "sKA1wPlcLqDS",
        "outputId": "09fb16f5-76e7-49aa-faca-557c6cdb2ef2"
      },
      "id": "sKA1wPlcLqDS",
      "execution_count": 103,
      "outputs": [
        {
          "output_type": "execute_result",
          "data": {
            "text/plain": [
              "(2009, 2)"
            ]
          },
          "metadata": {},
          "execution_count": 103
        }
      ]
    },
    {
      "cell_type": "code",
      "execution_count": 100,
      "id": "69c30574",
      "metadata": {
        "id": "69c30574"
      },
      "outputs": [],
      "source": [
        "result = pd.concat([df1,df2_reduced] , ignore_index=True)"
      ]
    },
    {
      "cell_type": "code",
      "source": [
        "result.shape # number of rows and columns"
      ],
      "metadata": {
        "colab": {
          "base_uri": "https://localhost:8080/"
        },
        "id": "3pkVBowTLcRm",
        "outputId": "f880f20a-13de-4582-f8d3-bedda0604fb3"
      },
      "id": "3pkVBowTLcRm",
      "execution_count": 102,
      "outputs": [
        {
          "output_type": "execute_result",
          "data": {
            "text/plain": [
              "(4761, 2)"
            ]
          },
          "metadata": {},
          "execution_count": 102
        }
      ]
    },
    {
      "cell_type": "code",
      "execution_count": 101,
      "id": "af41a0a4",
      "metadata": {
        "colab": {
          "base_uri": "https://localhost:8080/"
        },
        "id": "af41a0a4",
        "outputId": "80246192-cb25-439f-9507-60c8a46e4156"
      },
      "outputs": [
        {
          "output_type": "execute_result",
          "data": {
            "text/plain": [
              "2009"
            ]
          },
          "metadata": {},
          "execution_count": 101
        }
      ],
      "source": [
        "result.duplicated().sum() #checking duplicate rows"
      ]
    },
    {
      "cell_type": "markdown",
      "source": [
        "\n",
        "Note: We conclude from this exploration that df2_reduce would not add new information as the datasets is duplicated. It seems that both datasets come from same source"
      ],
      "metadata": {
        "id": "LyFiUs40L8NG"
      },
      "id": "LyFiUs40L8NG"
    },
    {
      "cell_type": "markdown",
      "source": [
        "## Cleaning the dataset"
      ],
      "metadata": {
        "id": "ta9zSMRIHrD0"
      },
      "id": "ta9zSMRIHrD0"
    },
    {
      "cell_type": "code",
      "source": [
        "# checking nulls\n",
        "\n",
        "df1.isnull().sum()"
      ],
      "metadata": {
        "colab": {
          "base_uri": "https://localhost:8080/"
        },
        "id": "6Akw-NBmHubz",
        "outputId": "0ce87d0a-4b9a-4419-994b-171885d57ba5"
      },
      "id": "6Akw-NBmHubz",
      "execution_count": 105,
      "outputs": [
        {
          "output_type": "execute_result",
          "data": {
            "text/plain": [
              "Context     0\n",
              "Response    0\n",
              "dtype: int64"
            ]
          },
          "metadata": {},
          "execution_count": 105
        }
      ]
    },
    {
      "cell_type": "code",
      "source": [
        "result.to_csv('dataset.csv', index=False) # Storing the final dataset"
      ],
      "metadata": {
        "id": "RNxcZ3GkmdgM"
      },
      "id": "RNxcZ3GkmdgM",
      "execution_count": 130,
      "outputs": []
    }
  ],
  "metadata": {
    "kernelspec": {
      "display_name": "Python 3 (ipykernel)",
      "language": "python",
      "name": "python3"
    },
    "language_info": {
      "codemirror_mode": {
        "name": "ipython",
        "version": 3
      },
      "file_extension": ".py",
      "mimetype": "text/x-python",
      "name": "python",
      "nbconvert_exporter": "python",
      "pygments_lexer": "ipython3",
      "version": "3.11.4"
    },
    "colab": {
      "provenance": [],
      "collapsed_sections": [
        "VaituKW-A4iv"
      ]
    }
  },
  "nbformat": 4,
  "nbformat_minor": 5
}